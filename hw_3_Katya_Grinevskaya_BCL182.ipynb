{
  "nbformat": 4,
  "nbformat_minor": 0,
  "metadata": {
    "kernelspec": {
      "display_name": "Python 3",
      "language": "python",
      "name": "python3"
    },
    "language_info": {
      "codemirror_mode": {
        "name": "ipython",
        "version": 3
      },
      "file_extension": ".py",
      "mimetype": "text/x-python",
      "name": "python",
      "nbconvert_exporter": "python",
      "pygments_lexer": "ipython3",
      "version": "3.7.3"
    },
    "colab": {
      "name": "hw_3_Katya_Grinevskaya_BCL182.ipynb",
      "provenance": []
    }
  },
  "cells": [
    {
      "cell_type": "markdown",
      "metadata": {
        "id": "ag5pS7oikkff"
      },
      "source": [
        "## Домашняя работа 3. Катя Гриневская, БКЛ182"
      ]
    },
    {
      "cell_type": "markdown",
      "metadata": {
        "id": "hFvtVzFNktw-"
      },
      "source": [
        "Сначала импортирую всё необходимое"
      ]
    },
    {
      "cell_type": "code",
      "metadata": {
        "id": "ADQ7g6m09Ljq",
        "outputId": "102d4062-8127-4527-8ae2-93faf8bf9ce0",
        "colab": {
          "base_uri": "https://localhost:8080/",
          "height": 52
        }
      },
      "source": [
        "!pip install nltk"
      ],
      "execution_count": 7,
      "outputs": [
        {
          "output_type": "stream",
          "text": [
            "Requirement already satisfied: nltk in /usr/local/lib/python3.6/dist-packages (3.2.5)\n",
            "Requirement already satisfied: six in /usr/local/lib/python3.6/dist-packages (from nltk) (1.15.0)\n"
          ],
          "name": "stdout"
        }
      ]
    },
    {
      "cell_type": "code",
      "metadata": {
        "id": "sLKz_cwApyvo"
      },
      "source": [
        "from collections import Counter"
      ],
      "execution_count": 100,
      "outputs": []
    },
    {
      "cell_type": "code",
      "metadata": {
        "id": "ot0W3lOahoZa"
      },
      "source": [
        "import operator"
      ],
      "execution_count": 227,
      "outputs": []
    },
    {
      "cell_type": "code",
      "metadata": {
        "id": "BtkFXD0xu6lq"
      },
      "source": [
        "from operator import itemgetter\n"
      ],
      "execution_count": 106,
      "outputs": []
    },
    {
      "cell_type": "code",
      "metadata": {
        "id": "4F34g_Oa9Ljx",
        "outputId": "9195f778-e003-4a39-ab5f-556130895068",
        "colab": {
          "base_uri": "https://localhost:8080/",
          "height": 384
        }
      },
      "source": [
        "!pip install spacy"
      ],
      "execution_count": 8,
      "outputs": [
        {
          "output_type": "stream",
          "text": [
            "Requirement already satisfied: spacy in /usr/local/lib/python3.6/dist-packages (2.2.4)\n",
            "Requirement already satisfied: requests<3.0.0,>=2.13.0 in /usr/local/lib/python3.6/dist-packages (from spacy) (2.23.0)\n",
            "Requirement already satisfied: blis<0.5.0,>=0.4.0 in /usr/local/lib/python3.6/dist-packages (from spacy) (0.4.1)\n",
            "Requirement already satisfied: numpy>=1.15.0 in /usr/local/lib/python3.6/dist-packages (from spacy) (1.18.5)\n",
            "Requirement already satisfied: thinc==7.4.0 in /usr/local/lib/python3.6/dist-packages (from spacy) (7.4.0)\n",
            "Requirement already satisfied: tqdm<5.0.0,>=4.38.0 in /usr/local/lib/python3.6/dist-packages (from spacy) (4.41.1)\n",
            "Requirement already satisfied: srsly<1.1.0,>=1.0.2 in /usr/local/lib/python3.6/dist-packages (from spacy) (1.0.2)\n",
            "Requirement already satisfied: catalogue<1.1.0,>=0.0.7 in /usr/local/lib/python3.6/dist-packages (from spacy) (1.0.0)\n",
            "Requirement already satisfied: cymem<2.1.0,>=2.0.2 in /usr/local/lib/python3.6/dist-packages (from spacy) (2.0.3)\n",
            "Requirement already satisfied: plac<1.2.0,>=0.9.6 in /usr/local/lib/python3.6/dist-packages (from spacy) (1.1.3)\n",
            "Requirement already satisfied: wasabi<1.1.0,>=0.4.0 in /usr/local/lib/python3.6/dist-packages (from spacy) (0.8.0)\n",
            "Requirement already satisfied: murmurhash<1.1.0,>=0.28.0 in /usr/local/lib/python3.6/dist-packages (from spacy) (1.0.2)\n",
            "Requirement already satisfied: preshed<3.1.0,>=3.0.2 in /usr/local/lib/python3.6/dist-packages (from spacy) (3.0.2)\n",
            "Requirement already satisfied: setuptools in /usr/local/lib/python3.6/dist-packages (from spacy) (50.3.0)\n",
            "Requirement already satisfied: chardet<4,>=3.0.2 in /usr/local/lib/python3.6/dist-packages (from requests<3.0.0,>=2.13.0->spacy) (3.0.4)\n",
            "Requirement already satisfied: certifi>=2017.4.17 in /usr/local/lib/python3.6/dist-packages (from requests<3.0.0,>=2.13.0->spacy) (2020.6.20)\n",
            "Requirement already satisfied: urllib3!=1.25.0,!=1.25.1,<1.26,>=1.21.1 in /usr/local/lib/python3.6/dist-packages (from requests<3.0.0,>=2.13.0->spacy) (1.24.3)\n",
            "Requirement already satisfied: idna<3,>=2.5 in /usr/local/lib/python3.6/dist-packages (from requests<3.0.0,>=2.13.0->spacy) (2.10)\n",
            "Requirement already satisfied: importlib-metadata>=0.20; python_version < \"3.8\" in /usr/local/lib/python3.6/dist-packages (from catalogue<1.1.0,>=0.0.7->spacy) (2.0.0)\n",
            "Requirement already satisfied: zipp>=0.5 in /usr/local/lib/python3.6/dist-packages (from importlib-metadata>=0.20; python_version < \"3.8\"->catalogue<1.1.0,>=0.0.7->spacy) (3.2.0)\n"
          ],
          "name": "stdout"
        }
      ]
    },
    {
      "cell_type": "code",
      "metadata": {
        "id": "vrIiaXeD9Lj4",
        "outputId": "76d75911-ba99-4b45-fbb2-a74a554b9d53",
        "colab": {
          "base_uri": "https://localhost:8080/",
          "height": 575
        }
      },
      "source": [
        "!pip  install pyLDAvis"
      ],
      "execution_count": 9,
      "outputs": [
        {
          "output_type": "stream",
          "text": [
            "Collecting pyLDAvis\n",
            "\u001b[?25l  Downloading https://files.pythonhosted.org/packages/a5/3a/af82e070a8a96e13217c8f362f9a73e82d61ac8fff3a2561946a97f96266/pyLDAvis-2.1.2.tar.gz (1.6MB)\n",
            "\u001b[K     |████████████████████████████████| 1.6MB 2.8MB/s \n",
            "\u001b[?25hRequirement already satisfied: wheel>=0.23.0 in /usr/local/lib/python3.6/dist-packages (from pyLDAvis) (0.35.1)\n",
            "Requirement already satisfied: numpy>=1.9.2 in /usr/local/lib/python3.6/dist-packages (from pyLDAvis) (1.18.5)\n",
            "Requirement already satisfied: scipy>=0.18.0 in /usr/local/lib/python3.6/dist-packages (from pyLDAvis) (1.4.1)\n",
            "Requirement already satisfied: pandas>=0.17.0 in /usr/local/lib/python3.6/dist-packages (from pyLDAvis) (1.1.2)\n",
            "Requirement already satisfied: joblib>=0.8.4 in /usr/local/lib/python3.6/dist-packages (from pyLDAvis) (0.16.0)\n",
            "Requirement already satisfied: jinja2>=2.7.2 in /usr/local/lib/python3.6/dist-packages (from pyLDAvis) (2.11.2)\n",
            "Requirement already satisfied: numexpr in /usr/local/lib/python3.6/dist-packages (from pyLDAvis) (2.7.1)\n",
            "Requirement already satisfied: pytest in /usr/local/lib/python3.6/dist-packages (from pyLDAvis) (3.6.4)\n",
            "Requirement already satisfied: future in /usr/local/lib/python3.6/dist-packages (from pyLDAvis) (0.16.0)\n",
            "Collecting funcy\n",
            "  Downloading https://files.pythonhosted.org/packages/66/89/479de0afbbfb98d1c4b887936808764627300208bb771fcd823403645a36/funcy-1.15-py2.py3-none-any.whl\n",
            "Requirement already satisfied: python-dateutil>=2.7.3 in /usr/local/lib/python3.6/dist-packages (from pandas>=0.17.0->pyLDAvis) (2.8.1)\n",
            "Requirement already satisfied: pytz>=2017.2 in /usr/local/lib/python3.6/dist-packages (from pandas>=0.17.0->pyLDAvis) (2018.9)\n",
            "Requirement already satisfied: MarkupSafe>=0.23 in /usr/local/lib/python3.6/dist-packages (from jinja2>=2.7.2->pyLDAvis) (1.1.1)\n",
            "Requirement already satisfied: py>=1.5.0 in /usr/local/lib/python3.6/dist-packages (from pytest->pyLDAvis) (1.9.0)\n",
            "Requirement already satisfied: attrs>=17.4.0 in /usr/local/lib/python3.6/dist-packages (from pytest->pyLDAvis) (20.2.0)\n",
            "Requirement already satisfied: setuptools in /usr/local/lib/python3.6/dist-packages (from pytest->pyLDAvis) (50.3.0)\n",
            "Requirement already satisfied: more-itertools>=4.0.0 in /usr/local/lib/python3.6/dist-packages (from pytest->pyLDAvis) (8.5.0)\n",
            "Requirement already satisfied: six>=1.10.0 in /usr/local/lib/python3.6/dist-packages (from pytest->pyLDAvis) (1.15.0)\n",
            "Requirement already satisfied: pluggy<0.8,>=0.5 in /usr/local/lib/python3.6/dist-packages (from pytest->pyLDAvis) (0.7.1)\n",
            "Requirement already satisfied: atomicwrites>=1.0 in /usr/local/lib/python3.6/dist-packages (from pytest->pyLDAvis) (1.4.0)\n",
            "Building wheels for collected packages: pyLDAvis\n",
            "  Building wheel for pyLDAvis (setup.py) ... \u001b[?25l\u001b[?25hdone\n",
            "  Created wheel for pyLDAvis: filename=pyLDAvis-2.1.2-py2.py3-none-any.whl size=97712 sha256=d92600f357d797cb6bd9ad8faca78262d9a99e9d02e0fec4c52b6e4870f5b27f\n",
            "  Stored in directory: /root/.cache/pip/wheels/98/71/24/513a99e58bb6b8465bae4d2d5e9dba8f0bef8179e3051ac414\n",
            "Successfully built pyLDAvis\n",
            "Installing collected packages: funcy, pyLDAvis\n",
            "Successfully installed funcy-1.15 pyLDAvis-2.1.2\n"
          ],
          "name": "stdout"
        }
      ]
    },
    {
      "cell_type": "code",
      "metadata": {
        "id": "4bS0R1A79Lj8",
        "outputId": "c201e96f-df28-4d6d-997d-f1ebc11c9d7a",
        "colab": {
          "base_uri": "https://localhost:8080/",
          "height": 540
        }
      },
      "source": [
        "import nltk; nltk.download('stopwords')\n",
        "\n",
        "\n",
        "!python3 -m spacy download en"
      ],
      "execution_count": 2,
      "outputs": [
        {
          "output_type": "stream",
          "text": [
            "[nltk_data] Downloading package stopwords to /root/nltk_data...\n",
            "[nltk_data]   Unzipping corpora/stopwords.zip.\n",
            "Requirement already satisfied: en_core_web_sm==2.2.5 from https://github.com/explosion/spacy-models/releases/download/en_core_web_sm-2.2.5/en_core_web_sm-2.2.5.tar.gz#egg=en_core_web_sm==2.2.5 in /usr/local/lib/python3.6/dist-packages (2.2.5)\n",
            "Requirement already satisfied: spacy>=2.2.2 in /usr/local/lib/python3.6/dist-packages (from en_core_web_sm==2.2.5) (2.2.4)\n",
            "Requirement already satisfied: cymem<2.1.0,>=2.0.2 in /usr/local/lib/python3.6/dist-packages (from spacy>=2.2.2->en_core_web_sm==2.2.5) (2.0.3)\n",
            "Requirement already satisfied: tqdm<5.0.0,>=4.38.0 in /usr/local/lib/python3.6/dist-packages (from spacy>=2.2.2->en_core_web_sm==2.2.5) (4.41.1)\n",
            "Requirement already satisfied: numpy>=1.15.0 in /usr/local/lib/python3.6/dist-packages (from spacy>=2.2.2->en_core_web_sm==2.2.5) (1.18.5)\n",
            "Requirement already satisfied: murmurhash<1.1.0,>=0.28.0 in /usr/local/lib/python3.6/dist-packages (from spacy>=2.2.2->en_core_web_sm==2.2.5) (1.0.2)\n",
            "Requirement already satisfied: setuptools in /usr/local/lib/python3.6/dist-packages (from spacy>=2.2.2->en_core_web_sm==2.2.5) (50.3.0)\n",
            "Requirement already satisfied: preshed<3.1.0,>=3.0.2 in /usr/local/lib/python3.6/dist-packages (from spacy>=2.2.2->en_core_web_sm==2.2.5) (3.0.2)\n",
            "Requirement already satisfied: blis<0.5.0,>=0.4.0 in /usr/local/lib/python3.6/dist-packages (from spacy>=2.2.2->en_core_web_sm==2.2.5) (0.4.1)\n",
            "Requirement already satisfied: srsly<1.1.0,>=1.0.2 in /usr/local/lib/python3.6/dist-packages (from spacy>=2.2.2->en_core_web_sm==2.2.5) (1.0.2)\n",
            "Requirement already satisfied: catalogue<1.1.0,>=0.0.7 in /usr/local/lib/python3.6/dist-packages (from spacy>=2.2.2->en_core_web_sm==2.2.5) (1.0.0)\n",
            "Requirement already satisfied: plac<1.2.0,>=0.9.6 in /usr/local/lib/python3.6/dist-packages (from spacy>=2.2.2->en_core_web_sm==2.2.5) (1.1.3)\n",
            "Requirement already satisfied: wasabi<1.1.0,>=0.4.0 in /usr/local/lib/python3.6/dist-packages (from spacy>=2.2.2->en_core_web_sm==2.2.5) (0.8.0)\n",
            "Requirement already satisfied: requests<3.0.0,>=2.13.0 in /usr/local/lib/python3.6/dist-packages (from spacy>=2.2.2->en_core_web_sm==2.2.5) (2.23.0)\n",
            "Requirement already satisfied: thinc==7.4.0 in /usr/local/lib/python3.6/dist-packages (from spacy>=2.2.2->en_core_web_sm==2.2.5) (7.4.0)\n",
            "Requirement already satisfied: importlib-metadata>=0.20; python_version < \"3.8\" in /usr/local/lib/python3.6/dist-packages (from catalogue<1.1.0,>=0.0.7->spacy>=2.2.2->en_core_web_sm==2.2.5) (2.0.0)\n",
            "Requirement already satisfied: chardet<4,>=3.0.2 in /usr/local/lib/python3.6/dist-packages (from requests<3.0.0,>=2.13.0->spacy>=2.2.2->en_core_web_sm==2.2.5) (3.0.4)\n",
            "Requirement already satisfied: urllib3!=1.25.0,!=1.25.1,<1.26,>=1.21.1 in /usr/local/lib/python3.6/dist-packages (from requests<3.0.0,>=2.13.0->spacy>=2.2.2->en_core_web_sm==2.2.5) (1.24.3)\n",
            "Requirement already satisfied: certifi>=2017.4.17 in /usr/local/lib/python3.6/dist-packages (from requests<3.0.0,>=2.13.0->spacy>=2.2.2->en_core_web_sm==2.2.5) (2020.6.20)\n",
            "Requirement already satisfied: idna<3,>=2.5 in /usr/local/lib/python3.6/dist-packages (from requests<3.0.0,>=2.13.0->spacy>=2.2.2->en_core_web_sm==2.2.5) (2.10)\n",
            "Requirement already satisfied: zipp>=0.5 in /usr/local/lib/python3.6/dist-packages (from importlib-metadata>=0.20; python_version < \"3.8\"->catalogue<1.1.0,>=0.0.7->spacy>=2.2.2->en_core_web_sm==2.2.5) (3.2.0)\n",
            "\u001b[38;5;2m✔ Download and installation successful\u001b[0m\n",
            "You can now load the model via spacy.load('en_core_web_sm')\n",
            "\u001b[38;5;2m✔ Linking successful\u001b[0m\n",
            "/usr/local/lib/python3.6/dist-packages/en_core_web_sm -->\n",
            "/usr/local/lib/python3.6/dist-packages/spacy/data/en\n",
            "You can now load the model via spacy.load('en')\n"
          ],
          "name": "stdout"
        }
      ]
    },
    {
      "cell_type": "code",
      "metadata": {
        "id": "F-NrcE5a9hU1",
        "outputId": "5de4102c-5133-4522-ee47-e1bb12db187c",
        "colab": {
          "base_uri": "https://localhost:8080/",
          "height": 35
        }
      },
      "source": [
        "spacy.load('en')"
      ],
      "execution_count": 10,
      "outputs": [
        {
          "output_type": "execute_result",
          "data": {
            "text/plain": [
              "<spacy.lang.en.English at 0x7f67d050fef0>"
            ]
          },
          "metadata": {
            "tags": []
          },
          "execution_count": 10
        }
      ]
    },
    {
      "cell_type": "code",
      "metadata": {
        "id": "VHdZ1M6M9Lj_"
      },
      "source": [
        "import re\n",
        "import numpy as np\n",
        "import pandas as pd\n",
        "from pprint import pprint\n",
        "\n",
        "# Gensim\n",
        "import gensim\n",
        "import gensim.corpora as corpora\n",
        "from gensim.utils import simple_preprocess\n",
        "from gensim.models import CoherenceModel\n",
        "\n",
        "# spacy for lemmatization\n",
        "import spacy\n",
        "\n",
        "# Plotting tools\n",
        "import pyLDAvis\n",
        "import pyLDAvis.gensim  # don't skip this\n",
        "import matplotlib.pyplot as plt\n",
        "%matplotlib inline\n",
        "\n",
        "# Enable logging for gensim - optional\n",
        "import logging\n",
        "logging.basicConfig(format='%(asctime)s : %(levelname)s : %(message)s', level=logging.ERROR)\n",
        "\n",
        "import warnings\n",
        "warnings.filterwarnings(\"ignore\",category=DeprecationWarning)"
      ],
      "execution_count": 11,
      "outputs": []
    },
    {
      "cell_type": "markdown",
      "metadata": {
        "id": "ecRGv9PXk1OX"
      },
      "source": [
        "Здесь делаю как в семинаре"
      ]
    },
    {
      "cell_type": "code",
      "metadata": {
        "id": "F1xAHiT79LkC"
      },
      "source": [
        "from nltk.corpus import stopwords\n",
        "stop_words = stopwords.words('english')\n",
        "stop_words.extend(['from', 'subject', 're', 'edu', 'use'])"
      ],
      "execution_count": 12,
      "outputs": []
    },
    {
      "cell_type": "code",
      "metadata": {
        "id": "_QSuALBE9LkG",
        "outputId": "5ad5380f-64ed-4d4b-f811-003998ac0753",
        "colab": {
          "base_uri": "https://localhost:8080/",
          "height": 306
        }
      },
      "source": [
        "df = pd.read_json('https://raw.githubusercontent.com/selva86/datasets/master/newsgroups.json')\n",
        "print(df.target_names.unique())\n",
        "df.head()"
      ],
      "execution_count": 13,
      "outputs": [
        {
          "output_type": "stream",
          "text": [
            "['rec.autos' 'comp.sys.mac.hardware' 'comp.graphics' 'sci.space'\n",
            " 'talk.politics.guns' 'sci.med' 'comp.sys.ibm.pc.hardware'\n",
            " 'comp.os.ms-windows.misc' 'rec.motorcycles' 'talk.religion.misc'\n",
            " 'misc.forsale' 'alt.atheism' 'sci.electronics' 'comp.windows.x'\n",
            " 'rec.sport.hockey' 'rec.sport.baseball' 'soc.religion.christian'\n",
            " 'talk.politics.mideast' 'talk.politics.misc' 'sci.crypt']\n"
          ],
          "name": "stdout"
        },
        {
          "output_type": "execute_result",
          "data": {
            "text/html": [
              "<div>\n",
              "<style scoped>\n",
              "    .dataframe tbody tr th:only-of-type {\n",
              "        vertical-align: middle;\n",
              "    }\n",
              "\n",
              "    .dataframe tbody tr th {\n",
              "        vertical-align: top;\n",
              "    }\n",
              "\n",
              "    .dataframe thead th {\n",
              "        text-align: right;\n",
              "    }\n",
              "</style>\n",
              "<table border=\"1\" class=\"dataframe\">\n",
              "  <thead>\n",
              "    <tr style=\"text-align: right;\">\n",
              "      <th></th>\n",
              "      <th>content</th>\n",
              "      <th>target</th>\n",
              "      <th>target_names</th>\n",
              "    </tr>\n",
              "  </thead>\n",
              "  <tbody>\n",
              "    <tr>\n",
              "      <th>0</th>\n",
              "      <td>From: lerxst@wam.umd.edu (where's my thing)\\nS...</td>\n",
              "      <td>7</td>\n",
              "      <td>rec.autos</td>\n",
              "    </tr>\n",
              "    <tr>\n",
              "      <th>1</th>\n",
              "      <td>From: guykuo@carson.u.washington.edu (Guy Kuo)...</td>\n",
              "      <td>4</td>\n",
              "      <td>comp.sys.mac.hardware</td>\n",
              "    </tr>\n",
              "    <tr>\n",
              "      <th>2</th>\n",
              "      <td>From: twillis@ec.ecn.purdue.edu (Thomas E Will...</td>\n",
              "      <td>4</td>\n",
              "      <td>comp.sys.mac.hardware</td>\n",
              "    </tr>\n",
              "    <tr>\n",
              "      <th>3</th>\n",
              "      <td>From: jgreen@amber (Joe Green)\\nSubject: Re: W...</td>\n",
              "      <td>1</td>\n",
              "      <td>comp.graphics</td>\n",
              "    </tr>\n",
              "    <tr>\n",
              "      <th>4</th>\n",
              "      <td>From: jcm@head-cfa.harvard.edu (Jonathan McDow...</td>\n",
              "      <td>14</td>\n",
              "      <td>sci.space</td>\n",
              "    </tr>\n",
              "  </tbody>\n",
              "</table>\n",
              "</div>"
            ],
            "text/plain": [
              "                                             content  ...           target_names\n",
              "0  From: lerxst@wam.umd.edu (where's my thing)\\nS...  ...              rec.autos\n",
              "1  From: guykuo@carson.u.washington.edu (Guy Kuo)...  ...  comp.sys.mac.hardware\n",
              "2  From: twillis@ec.ecn.purdue.edu (Thomas E Will...  ...  comp.sys.mac.hardware\n",
              "3  From: jgreen@amber (Joe Green)\\nSubject: Re: W...  ...          comp.graphics\n",
              "4  From: jcm@head-cfa.harvard.edu (Jonathan McDow...  ...              sci.space\n",
              "\n",
              "[5 rows x 3 columns]"
            ]
          },
          "metadata": {
            "tags": []
          },
          "execution_count": 13
        }
      ]
    },
    {
      "cell_type": "code",
      "metadata": {
        "id": "FFkCShMr9LkJ",
        "outputId": "949377be-ad2b-45ee-b328-56a501a1e337",
        "colab": {
          "base_uri": "https://localhost:8080/",
          "height": 191
        }
      },
      "source": [
        "# Convert to list\n",
        "data = df.content.values.tolist()\n",
        "\n",
        "# Remove Emails\n",
        "data = [re.sub('\\S*@\\S*\\s?', '', sent) for sent in data]\n",
        "\n",
        "# Remove new line characters\n",
        "data = [re.sub('\\s+', ' ', sent) for sent in data]\n",
        "\n",
        "# Remove distracting single quotes\n",
        "data = [re.sub(\"\\'\", \"\", sent) for sent in data]\n",
        "\n",
        "pprint(data[:1])"
      ],
      "execution_count": 14,
      "outputs": [
        {
          "output_type": "stream",
          "text": [
            "['From: (wheres my thing) Subject: WHAT car is this!? Nntp-Posting-Host: '\n",
            " 'rac3.wam.umd.edu Organization: University of Maryland, College Park Lines: '\n",
            " '15 I was wondering if anyone out there could enlighten me on this car I saw '\n",
            " 'the other day. It was a 2-door sports car, looked to be from the late 60s/ '\n",
            " 'early 70s. It was called a Bricklin. The doors were really small. In '\n",
            " 'addition, the front bumper was separate from the rest of the body. This is '\n",
            " 'all I know. If anyone can tellme a model name, engine specs, years of '\n",
            " 'production, where this car is made, history, or whatever info you have on '\n",
            " 'this funky looking car, please e-mail. Thanks, - IL ---- brought to you by '\n",
            " 'your neighborhood Lerxst ---- ']\n"
          ],
          "name": "stdout"
        }
      ]
    },
    {
      "cell_type": "code",
      "metadata": {
        "id": "tOuHbyUr9LkM"
      },
      "source": [
        "def sent_to_words(sentences):\n",
        "    for sentence in sentences:\n",
        "        yield(gensim.utils.simple_preprocess(str(sentence), deacc=True))  # deacc=True removes punctuations\n",
        "\n",
        "data_words = list(sent_to_words(data))"
      ],
      "execution_count": 15,
      "outputs": []
    },
    {
      "cell_type": "code",
      "metadata": {
        "id": "cLkLW8dO9LkR"
      },
      "source": [
        "bigrams = [b for l in data for b in zip(l.split(\" \")[:-1], l.split(\" \")[1:])]\n",
        "freq = nltk.FreqDist(bigrams) #computes freq of occurrence\n",
        "fdist = freq.keys() # sorted according to freq"
      ],
      "execution_count": 16,
      "outputs": []
    },
    {
      "cell_type": "markdown",
      "metadata": {
        "id": "iI84B5VOoJkp"
      },
      "source": [
        "Mallet у меня не сработал, так что делала gensim-ом.![image_2020-10-19_16-16-44.png](data:image/png;base64,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)"
      ]
    },
    {
      "cell_type": "code",
      "metadata": {
        "id": "pevncPde9LkU",
        "outputId": "3c10bf38-4e81-4dd6-d4c5-f93fa5e3799f",
        "colab": {
          "base_uri": "https://localhost:8080/",
          "height": 89
        }
      },
      "source": [
        "# Build the bigram and trigram models\n",
        "bigram = gensim.models.Phrases(data_words, min_count=5, threshold=100) # higher threshold fewer phrases.\n",
        "trigram = gensim.models.Phrases(bigram[data_words], threshold=100)  \n",
        "\n",
        "# Faster way to get a sentence clubbed as a trigram/bigram\n",
        "bigram_mod = gensim.models.phrases.Phraser(bigram)\n",
        "trigram_mod = gensim.models.phrases.Phraser(trigram)\n",
        "\n",
        "# See trigram example\n",
        "print(trigram_mod[bigram_mod[data_words[0]]])"
      ],
      "execution_count": 17,
      "outputs": [
        {
          "output_type": "stream",
          "text": [
            "/usr/local/lib/python3.6/dist-packages/gensim/models/phrases.py:598: UserWarning: For a faster implementation, use the gensim.models.phrases.Phraser class\n",
            "  warnings.warn(\"For a faster implementation, use the gensim.models.phrases.Phraser class\")\n"
          ],
          "name": "stderr"
        },
        {
          "output_type": "stream",
          "text": [
            "['from', 'wheres', 'my', 'thing', 'subject', 'what', 'car', 'is', 'this', 'nntp_posting_host', 'rac_wam_umd_edu', 'organization', 'university', 'of', 'maryland_college_park', 'lines', 'was', 'wondering', 'if', 'anyone', 'out', 'there', 'could', 'enlighten', 'me', 'on', 'this', 'car', 'saw', 'the', 'other', 'day', 'it', 'was', 'door', 'sports', 'car', 'looked', 'to', 'be', 'from', 'the', 'late', 'early', 'it', 'was', 'called', 'bricklin', 'the', 'doors', 'were', 'really', 'small', 'in', 'addition', 'the', 'front_bumper', 'was', 'separate', 'from', 'the', 'rest', 'of', 'the', 'body', 'this', 'is', 'all', 'know', 'if', 'anyone', 'can', 'tellme', 'model', 'name', 'engine', 'specs', 'years', 'of', 'production', 'where', 'this', 'car', 'is', 'made', 'history', 'or', 'whatever', 'info', 'you', 'have', 'on', 'this', 'funky', 'looking', 'car', 'please', 'mail', 'thanks', 'il', 'brought', 'to', 'you', 'by', 'your', 'neighborhood', 'lerxst']\n"
          ],
          "name": "stdout"
        }
      ]
    },
    {
      "cell_type": "code",
      "metadata": {
        "id": "eSaVaoNn9LkX"
      },
      "source": [
        "def remove_stopwords(texts):\n",
        "    return [[word for word in simple_preprocess(str(doc)) if word not in stop_words] for doc in texts]\n",
        "\n",
        "def make_bigrams(texts):\n",
        "    return [bigram_mod[doc] for doc in texts]\n",
        "\n",
        "def make_trigrams(texts):\n",
        "    return [trigram_mod[bigram_mod[doc]] for doc in texts]\n",
        "\n",
        "def lemmatization(texts, allowed_postags=['NOUN', 'ADJ', 'VERB', 'ADV']):\n",
        "    \"\"\"https://spacy.io/api/annotation\"\"\"\n",
        "    texts_out = []\n",
        "    for sent in texts:\n",
        "        doc = nlp(\" \".join(sent)) \n",
        "        texts_out.append([token.lemma_ for token in doc if token.pos_ in allowed_postags])\n",
        "    return texts_out"
      ],
      "execution_count": 18,
      "outputs": []
    },
    {
      "cell_type": "code",
      "metadata": {
        "id": "AB2aYO6A9Lka",
        "outputId": "e8df0f04-d74b-403b-a6e3-3ce20e0b155d",
        "colab": {
          "base_uri": "https://localhost:8080/",
          "height": 55
        }
      },
      "source": [
        "# Remove Stop Words\n",
        "data_words_nostops = remove_stopwords(data_words)\n",
        "\n",
        "# Form Bigrams\n",
        "data_words_bigrams = make_bigrams(data_words_nostops)\n",
        "\n",
        "# Initialize spacy 'en' model, keeping only tagger component (for efficiency)\n",
        "# python3 -m spacy download en\n",
        "nlp = spacy.load('en', disable=['parser', 'ner'])\n",
        "\n",
        "# Do lemmatization keeping only noun, adj, vb, adv\n",
        "data_lemmatized = lemmatization(data_words_bigrams, allowed_postags=['NOUN', 'ADJ', 'VERB', 'ADV'])\n",
        "\n",
        "print(data_lemmatized[:1])"
      ],
      "execution_count": 19,
      "outputs": [
        {
          "output_type": "stream",
          "text": [
            "[['where', 'thing', 'car', 'nntp_poste', 'host', 'park', 'line', 'wonder', 'could', 'enlighten', 'car', 'see', 'day', 'door', 'sport', 'car', 'look', 'late', 'early', 'call', 'bricklin', 'door', 'really', 'small', 'addition', 'separate', 'rest', 'body', 'know', 'tellme', 'model', 'name', 'engine', 'year', 'production', 'car', 'make', 'history', 'info', 'funky', 'look', 'car', 'mail', 'thank', 'bring', 'neighborhood', 'lerxst']]\n"
          ],
          "name": "stdout"
        }
      ]
    },
    {
      "cell_type": "code",
      "metadata": {
        "id": "vFRCWC5K-nhN",
        "outputId": "b403b869-64df-44ff-8b46-cd7baa16e8dd",
        "colab": {
          "base_uri": "https://localhost:8080/",
          "height": 55
        }
      },
      "source": [
        "# Create Dictionary\n",
        "id2word = corpora.Dictionary(data_lemmatized)\n",
        "\n",
        "# Create Corpus\n",
        "texts = data_lemmatized\n",
        "\n",
        "# Term Document Frequency\n",
        "corpus = [id2word.doc2bow(text) for text in texts]\n",
        "\n",
        "# View\n",
        "print(corpus[:1])"
      ],
      "execution_count": 20,
      "outputs": [
        {
          "output_type": "stream",
          "text": [
            "[[(0, 1), (1, 1), (2, 1), (3, 1), (4, 1), (5, 5), (6, 1), (7, 1), (8, 2), (9, 1), (10, 1), (11, 1), (12, 1), (13, 1), (14, 1), (15, 1), (16, 1), (17, 1), (18, 1), (19, 1), (20, 2), (21, 1), (22, 1), (23, 1), (24, 1), (25, 1), (26, 1), (27, 1), (28, 1), (29, 1), (30, 1), (31, 1), (32, 1), (33, 1), (34, 1), (35, 1), (36, 1), (37, 1), (38, 1), (39, 1), (40, 1)]]\n"
          ],
          "name": "stdout"
        }
      ]
    },
    {
      "cell_type": "code",
      "metadata": {
        "id": "RnwDUEzl-wcD",
        "outputId": "9082663a-e281-4eca-9a56-92fe8888559b",
        "colab": {
          "base_uri": "https://localhost:8080/",
          "height": 728
        }
      },
      "source": [
        "[[(id2word[id], freq) for id, freq in cp] for cp in corpus[:1]]"
      ],
      "execution_count": 21,
      "outputs": [
        {
          "output_type": "execute_result",
          "data": {
            "text/plain": [
              "[[('addition', 1),\n",
              "  ('body', 1),\n",
              "  ('bricklin', 1),\n",
              "  ('bring', 1),\n",
              "  ('call', 1),\n",
              "  ('car', 5),\n",
              "  ('could', 1),\n",
              "  ('day', 1),\n",
              "  ('door', 2),\n",
              "  ('early', 1),\n",
              "  ('engine', 1),\n",
              "  ('enlighten', 1),\n",
              "  ('funky', 1),\n",
              "  ('history', 1),\n",
              "  ('host', 1),\n",
              "  ('info', 1),\n",
              "  ('know', 1),\n",
              "  ('late', 1),\n",
              "  ('lerxst', 1),\n",
              "  ('line', 1),\n",
              "  ('look', 2),\n",
              "  ('mail', 1),\n",
              "  ('make', 1),\n",
              "  ('model', 1),\n",
              "  ('name', 1),\n",
              "  ('neighborhood', 1),\n",
              "  ('nntp_poste', 1),\n",
              "  ('park', 1),\n",
              "  ('production', 1),\n",
              "  ('really', 1),\n",
              "  ('rest', 1),\n",
              "  ('see', 1),\n",
              "  ('separate', 1),\n",
              "  ('small', 1),\n",
              "  ('sport', 1),\n",
              "  ('tellme', 1),\n",
              "  ('thank', 1),\n",
              "  ('thing', 1),\n",
              "  ('where', 1),\n",
              "  ('wonder', 1),\n",
              "  ('year', 1)]]"
            ]
          },
          "metadata": {
            "tags": []
          },
          "execution_count": 21
        }
      ]
    },
    {
      "cell_type": "markdown",
      "metadata": {
        "id": "vtKWSjfkk6xF"
      },
      "source": [
        "Здесь функция для выбора оптимального числа топиков: у меня получилось 19"
      ]
    },
    {
      "cell_type": "code",
      "metadata": {
        "id": "R_rHBsGB9Lkd"
      },
      "source": [
        "def best_num(start, limit, step):\n",
        "  num_dict = {}\n",
        "  for n in range(start, limit, step):\n",
        "    lda_model = gensim.models.ldamodel.LdaModel(corpus=corpus,\n",
        "                                           id2word=id2word,\n",
        "                                           num_topics=n, \n",
        "                                           random_state=100,\n",
        "                                           update_every=1,\n",
        "                                           chunksize=100,\n",
        "                                           passes=10,\n",
        "                                           alpha='auto',\n",
        "                                           per_word_topics=True)\n",
        "    coherence_model_lda = CoherenceModel(model=lda_model, texts=data_lemmatized, dictionary=id2word, coherence='c_v')\n",
        "    coherence_lda = coherence_model_lda.get_coherence()\n",
        "    num_dict[n] = coherence_lda\n",
        "    print(n, ' ', coherence_lda)\n",
        "  best_num = max(num_dict,key=num_dict.get)\n",
        "  return best_num"
      ],
      "execution_count": 30,
      "outputs": []
    },
    {
      "cell_type": "code",
      "metadata": {
        "id": "_fZqLBJJCYaY",
        "outputId": "db3e4c30-8c5a-4a95-b8ff-dc6553b758eb",
        "colab": {
          "base_uri": "https://localhost:8080/",
          "height": 104
        }
      },
      "source": [
        "best_num = best_num(4, 26, 5) # на всякий случай вывожу, чтобы видеть, что всё норм работает"
      ],
      "execution_count": 31,
      "outputs": [
        {
          "output_type": "stream",
          "text": [
            "4   0.38945426450083365\n",
            "9   0.4514692455752538\n",
            "14   0.4581179066989397\n",
            "19   0.4722627871932223\n",
            "24   0.45049782434951174\n"
          ],
          "name": "stdout"
        }
      ]
    },
    {
      "cell_type": "markdown",
      "metadata": {
        "id": "bK5HgYXBlJGy"
      },
      "source": [
        "Теперь запускаю для оптимального числа топиков"
      ]
    },
    {
      "cell_type": "code",
      "metadata": {
        "id": "pRQhzYHPCfCb"
      },
      "source": [
        "lda_model = gensim.models.ldamodel.LdaModel(corpus=corpus,\n",
        "                                           id2word=id2word,\n",
        "                                           num_topics=best_num, \n",
        "                                           random_state=100,\n",
        "                                           update_every=1,\n",
        "                                           chunksize=100,\n",
        "                                           passes=10,\n",
        "                                           alpha='auto',\n",
        "                                           per_word_topics=True)"
      ],
      "execution_count": 33,
      "outputs": []
    },
    {
      "cell_type": "markdown",
      "metadata": {
        "id": "XxeVlslxlR-L"
      },
      "source": [
        "Здесь создаю словарь типа {номер_топика : 10 слов с весами}"
      ]
    },
    {
      "cell_type": "code",
      "metadata": {
        "id": "_QfkM2VvQbjK"
      },
      "source": [
        "idtopic_words = {}\n",
        "for idx, topic in lda_model.show_topics(formatted=False, num_words= 10):\n",
        "  d = {}\n",
        "  for w in topic:\n",
        "   d[w[0]] = w[1]\n",
        "  idtopic_words[idx] = d"
      ],
      "execution_count": 50,
      "outputs": []
    },
    {
      "cell_type": "markdown",
      "metadata": {
        "id": "L62q6869lyaU"
      },
      "source": [
        "Теперь функция, где получаю словарь {текст_ввидестроки : номер_главного_топика}. Я знаю, что лучше было бы поменять местами ключ и значение, тогда бы не пришлось список лемматизированных слов каждого текста превращать в строку, но на момент решения мне казалось это гениальной идеей, а потом пришлось возвращать эти слепленные строки в номральные списки :("
      ]
    },
    {
      "cell_type": "code",
      "metadata": {
        "id": "4IlrH9J0RxwD"
      },
      "source": [
        "def getting_main_topic(idtopic_words):\n",
        "  c_topics = {}\n",
        "  c_texts = {}\n",
        "  for text in texts:\n",
        "    for idx in idtopic_words.keys():\n",
        "      c_topics[idx] = 0\n",
        "    c_texts[str(text)] = 0\n",
        "    for word in text:\n",
        "      for idx, value in idtopic_words.items():\n",
        "        if word in value.keys():\n",
        "          c_topics[idx] += value[word]\n",
        "    c_texts[str(text)] = max(c_topics, key=c_topics.get)\n",
        "  return c_texts"
      ],
      "execution_count": 73,
      "outputs": []
    },
    {
      "cell_type": "code",
      "metadata": {
        "id": "eF5GXCbacRbM"
      },
      "source": [
        "c_texts = getting_main_topic(idtopic_words)"
      ],
      "execution_count": 74,
      "outputs": []
    },
    {
      "cell_type": "markdown",
      "metadata": {
        "id": "HFRCIrWJl0sh"
      },
      "source": [
        "Теперь группирую тексты по главному топику"
      ]
    },
    {
      "cell_type": "code",
      "metadata": {
        "id": "g9h3V1UmcY2o"
      },
      "source": [
        "def group_texts(c_texts):\n",
        "  topic_text = {}\n",
        "  for key, value in c_texts.items():\n",
        "    topic_text[value] = []\n",
        "  for key, value in c_texts.items():\n",
        "    topic_text[value].append(key)\n",
        "  return topic_text"
      ],
      "execution_count": 78,
      "outputs": []
    },
    {
      "cell_type": "code",
      "metadata": {
        "id": "1W582w55kR9M"
      },
      "source": [
        "topic_text = group_texts(c_texts)"
      ],
      "execution_count": 146,
      "outputs": []
    },
    {
      "cell_type": "markdown",
      "metadata": {
        "id": "3pVyhQ0ymNVn"
      },
      "source": [
        "Вот тут как раз возвращаю тексты к нормальному виду и получаю словарь типа {номер_топика: список_текстов}"
      ]
    },
    {
      "cell_type": "code",
      "metadata": {
        "id": "L-PXVztXy8MB"
      },
      "source": [
        "def normal_text(topic_text):\n",
        "  topic_text_norm = {}\n",
        "  for key, value in topic_text.items():\n",
        "    list_text = []\n",
        "    for t in value:\n",
        "      new_t = []\n",
        "      t = t.split()\n",
        "      for a in t:\n",
        "        a = a.replace(\"'\", '').replace(\"[\", '').replace(\"]\", '').replace(',', '')\n",
        "        new_t.append(a)\n",
        "      list_text.append(new_t)\n",
        "    topic_text_norm[key] = list_text\n",
        "  return topic_text_norm"
      ],
      "execution_count": 144,
      "outputs": []
    },
    {
      "cell_type": "code",
      "metadata": {
        "id": "9oiYNk-JzVd0"
      },
      "source": [
        "topic_text_norm = normal_text(topic_text)"
      ],
      "execution_count": 147,
      "outputs": []
    },
    {
      "cell_type": "markdown",
      "metadata": {
        "id": "ZAd2_xQdmezD"
      },
      "source": [
        "Теперь создаю датафрейм уже для необходимой выдачи"
      ]
    },
    {
      "cell_type": "code",
      "metadata": {
        "id": "axDZIjF16oJ5"
      },
      "source": [
        "dataframe = pd.DataFrame()\n",
        "dataframe['lemmatized_text'] = data_lemmatized\n",
        "all_topics = []\n",
        "for text in dataframe['lemmatized_text']:\n",
        "  for key, value in topic_text_norm.items():\n",
        "    if text in value:\n",
        "      all_topics.append(key)\n",
        "dataframe['main_topic'] = all_topics"
      ],
      "execution_count": 174,
      "outputs": []
    },
    {
      "cell_type": "markdown",
      "metadata": {
        "id": "6xXDKUEImkDv"
      },
      "source": [
        "Здесь считаю TF и функция мне выдаёт словарь {слово: TF}"
      ]
    },
    {
      "cell_type": "code",
      "metadata": {
        "id": "dSpbNGozzZZS"
      },
      "source": [
        "def computeTF(wordDict, bagofwords):\n",
        "  tfDict = {}\n",
        "  bagOfWordsCount = len(bagofwords)\n",
        "  for word, count in wordDict.items():\n",
        "      tfDict[word] = count / float(bagOfWordsCount)\n",
        "  return tfDict"
      ],
      "execution_count": 180,
      "outputs": []
    },
    {
      "cell_type": "markdown",
      "metadata": {
        "id": "6yY7gqN8mwb4"
      },
      "source": [
        "Чтобы мне проще было занести эту информацию в датафрейм, я создаю список, в котором у меня последовательно расположены словарики с TF-ами для каждого текста"
      ]
    },
    {
      "cell_type": "code",
      "metadata": {
        "id": "nmA5FsP7_EgY"
      },
      "source": [
        "list_tfDict = []\n",
        "for text in dataframe['lemmatized_text']:\n",
        "  uniqwords = set(text)\n",
        "  numOfWords = dict.fromkeys(uniqwords, 0)\n",
        "  for word in text:\n",
        "    numOfWords[word] += 1\n",
        "  list_tfDict.append(computeTF(numOfWords, text))"
      ],
      "execution_count": 182,
      "outputs": []
    },
    {
      "cell_type": "code",
      "metadata": {
        "id": "crWJxl_GYFv0"
      },
      "source": [
        "dataframe['TF'] = list_tfDict"
      ],
      "execution_count": 223,
      "outputs": []
    },
    {
      "cell_type": "markdown",
      "metadata": {
        "id": "BMpSydAanBGn"
      },
      "source": [
        "Тут у меня считается IDF и функция мне выдаёт словарь {слово: IDF}"
      ]
    },
    {
      "cell_type": "code",
      "metadata": {
        "id": "wOWx2OJZA8bY"
      },
      "source": [
        "import math\n",
        "def computeIDF(documents):\n",
        "    #для того, чтобы посчитать idf надо подать все документы в функцию сразу \n",
        "    #напишите функцию, считающую idf для каждого слова - на входе массив из numOfWords для всех текстов \n",
        "    #на выходе словарь для слов \n",
        "    #см. ввод и вывод ниже\n",
        "    N = len(documents)\n",
        "    all_words = []\n",
        "    for doc in documents:\n",
        "      for key, value in doc.items():\n",
        "        all_words.append(key)\n",
        "    all_words_uniq = set(all_words)\n",
        "    idfDict = dict.fromkeys(all_words_uniq, 0)\n",
        "    for document in documents:\n",
        "        #print(document) \n",
        "        for word, val in document.items():\n",
        "            if val > 0:\n",
        "                idfDict[word] += 1   \n",
        "    for word, val in idfDict.items():\n",
        "        idfDict[word] = math.log(N / float(val))\n",
        "    return idfDict"
      ],
      "execution_count": 211,
      "outputs": []
    },
    {
      "cell_type": "markdown",
      "metadata": {
        "id": "1msbclcYnKPR"
      },
      "source": [
        "Здесь я делаю словарь {номер_топика: idf для него}"
      ]
    },
    {
      "cell_type": "code",
      "metadata": {
        "id": "FaiWQRBBBWqc"
      },
      "source": [
        "topic_idf = {}\n",
        "for key, value in topic_text_norm.items():\n",
        "  c_docs = []\n",
        "  for text in value:\n",
        "    uniqwords = set(text)\n",
        "    numOfWords = dict.fromkeys(uniqwords, 0)\n",
        "    for word in text:\n",
        "      numOfWords[word] += 1\n",
        "    c_docs.append(numOfWords)\n",
        "  #print(c_docs)\n",
        "  idf = computeIDF(c_docs)\n",
        "  topic_idf[key] = idf "
      ],
      "execution_count": null,
      "outputs": []
    },
    {
      "cell_type": "markdown",
      "metadata": {
        "id": "DluvOBR4nVId"
      },
      "source": [
        "Теперь снова список с последовательными словариками IDF для удобства добавления в dataframe"
      ]
    },
    {
      "cell_type": "code",
      "metadata": {
        "id": "pZSRuBSoQLHG"
      },
      "source": [
        "text_idf = []\n",
        "for text in dataframe['lemmatized_text']:\n",
        "  for key, value in topic_text_norm.items():\n",
        "    if text in value:\n",
        "      text_idf.append(topic_idf[key])"
      ],
      "execution_count": 224,
      "outputs": []
    },
    {
      "cell_type": "code",
      "metadata": {
        "id": "ecg1j_Oqe6qH"
      },
      "source": [
        "dataframe['IDF'] = text_idf"
      ],
      "execution_count": 225,
      "outputs": []
    },
    {
      "cell_type": "markdown",
      "metadata": {
        "id": "UraelGhundGa"
      },
      "source": [
        "Здесь считаем TFIDF, на выходе получаем список для датафрейма из отсортированных словариков {слово: tfidf}"
      ]
    },
    {
      "cell_type": "code",
      "metadata": {
        "id": "9IMoI-bqQGrP"
      },
      "source": [
        "def computeTFIDF(list_tfDict, text_idf):\n",
        "    tfidf = []\n",
        "    for i in range(len(list_tfDict)):\n",
        "      tfidf_d = {}\n",
        "      for word, val in list_tfDict[i].items():\n",
        "        tfidf_d[word] = val * text_idf[i][word]\n",
        "      tfidf.append(sorted(tfidf_d.items(), key=operator.itemgetter(1), reverse=True)[:5])\n",
        "    return tfidf"
      ],
      "execution_count": 240,
      "outputs": []
    },
    {
      "cell_type": "code",
      "metadata": {
        "id": "DyBcWt9QiGug"
      },
      "source": [
        "tfidf = computeTFIDF(list_tfDict, text_idf)"
      ],
      "execution_count": 241,
      "outputs": []
    },
    {
      "cell_type": "code",
      "metadata": {
        "id": "-nWT3LkYjY3J"
      },
      "source": [
        "dataframe['TFIDF'] = tfidf"
      ],
      "execution_count": 243,
      "outputs": []
    },
    {
      "cell_type": "code",
      "metadata": {
        "id": "2Cu27UPcfARI",
        "outputId": "96284200-e0a5-45af-8fda-4c5de2dccad2",
        "colab": {
          "base_uri": "https://localhost:8080/",
          "height": 289
        }
      },
      "source": [
        "dataframe.head()"
      ],
      "execution_count": 244,
      "outputs": [
        {
          "output_type": "execute_result",
          "data": {
            "text/html": [
              "<div>\n",
              "<style scoped>\n",
              "    .dataframe tbody tr th:only-of-type {\n",
              "        vertical-align: middle;\n",
              "    }\n",
              "\n",
              "    .dataframe tbody tr th {\n",
              "        vertical-align: top;\n",
              "    }\n",
              "\n",
              "    .dataframe thead th {\n",
              "        text-align: right;\n",
              "    }\n",
              "</style>\n",
              "<table border=\"1\" class=\"dataframe\">\n",
              "  <thead>\n",
              "    <tr style=\"text-align: right;\">\n",
              "      <th></th>\n",
              "      <th>lemmatized_text</th>\n",
              "      <th>main_topic</th>\n",
              "      <th>TF</th>\n",
              "      <th>IDF</th>\n",
              "      <th>TFIDF</th>\n",
              "    </tr>\n",
              "  </thead>\n",
              "  <tbody>\n",
              "    <tr>\n",
              "      <th>0</th>\n",
              "      <td>[where, thing, car, nntp_poste, host, park, li...</td>\n",
              "      <td>11</td>\n",
              "      <td>{'make': 0.02127659574468085, 'where': 0.02127...</td>\n",
              "      <td>{'distinction': 5.3706380281276624, 'sight': 4...</td>\n",
              "      <td>[(where, 0.09952108186314292), (lerxst, 0.0995...</td>\n",
              "    </tr>\n",
              "    <tr>\n",
              "      <th>1</th>\n",
              "      <td>[poll, final, call, summary, final, call, cloc...</td>\n",
              "      <td>13</td>\n",
              "      <td>{'network': 0.017857142857142856, 'summary': 0...</td>\n",
              "      <td>{'admirer': 7.762489705157186, 'public_domain'...</td>\n",
              "      <td>[(poll, 0.3044490087577152), (clock, 0.2588194...</td>\n",
              "    </tr>\n",
              "    <tr>\n",
              "      <th>2</th>\n",
              "      <td>[engineering, computer, network, distribution_...</td>\n",
              "      <td>13</td>\n",
              "      <td>{'suppose': 0.007633587786259542, 'have': 0.00...</td>\n",
              "      <td>{'admirer': 7.762489705157186, 'public_domain'...</td>\n",
              "      <td>[(powerbook, 0.09393972202630665), (display, 0...</td>\n",
              "    </tr>\n",
              "    <tr>\n",
              "      <th>3</th>\n",
              "      <td>[division, line, host, write, write, article, ...</td>\n",
              "      <td>13</td>\n",
              "      <td>{'point': 0.02857142857142857, 'would': 0.0285...</td>\n",
              "      <td>{'admirer': 7.762489705157186, 'public_domain'...</td>\n",
              "      <td>[(quadrilateral, 0.24158962530620376), (divisi...</td>\n",
              "    </tr>\n",
              "    <tr>\n",
              "      <th>4</th>\n",
              "      <td>[question, distribution, article, write, clear...</td>\n",
              "      <td>13</td>\n",
              "      <td>{'software': 0.016666666666666666, 'warn': 0.0...</td>\n",
              "      <td>{'admirer': 7.762489705157186, 'public_domain'...</td>\n",
              "      <td>[(error, 0.23571039732593377), (warn, 0.234721...</td>\n",
              "    </tr>\n",
              "  </tbody>\n",
              "</table>\n",
              "</div>"
            ],
            "text/plain": [
              "                                     lemmatized_text  ...                                              TFIDF\n",
              "0  [where, thing, car, nntp_poste, host, park, li...  ...  [(where, 0.09952108186314292), (lerxst, 0.0995...\n",
              "1  [poll, final, call, summary, final, call, cloc...  ...  [(poll, 0.3044490087577152), (clock, 0.2588194...\n",
              "2  [engineering, computer, network, distribution_...  ...  [(powerbook, 0.09393972202630665), (display, 0...\n",
              "3  [division, line, host, write, write, article, ...  ...  [(quadrilateral, 0.24158962530620376), (divisi...\n",
              "4  [question, distribution, article, write, clear...  ...  [(error, 0.23571039732593377), (warn, 0.234721...\n",
              "\n",
              "[5 rows x 5 columns]"
            ]
          },
          "metadata": {
            "tags": []
          },
          "execution_count": 244
        }
      ]
    },
    {
      "cell_type": "markdown",
      "metadata": {
        "id": "0y_5Vm0qr9vr"
      },
      "source": [
        "Про Coherence Score: я так поняла, что это число, каким-то образом преобразованное из количества раз, которое пара слов из темы упоминается в документе рядом, делённое на произведение упоминаний каждого слова из пары по отдельности. Условно есть слова 1, 2, 3. Мы смотрим, сколько раз пара слова 1,3 упоминаются рядом, и делим на (кол-во упоминаний слова 1 * кол-во упоминаний слова 3). Типа оценка тому, насколько имеют смысл слова в теме, когда они стоят рядом."
      ]
    },
    {
      "cell_type": "code",
      "metadata": {
        "id": "IQU-l2f1r_fu"
      },
      "source": [
        ""
      ],
      "execution_count": null,
      "outputs": []
    }
  ]
}